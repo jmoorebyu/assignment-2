{
 "cells": [
  {
   "cell_type": "code",
   "execution_count": 1,
   "metadata": {},
   "outputs": [],
   "source": [
    "import pandas as pd, numpy as np, matplotlib.pyplot as plt\n",
    "from sklearn.model_selection import RandomizedSearchCV\n",
    "from sklearn.linear_model import SGDRegressor as greg\n",
    "from sklearn.metrics import mean_squared_error as mse\n",
    "from sklearn.linear_model import ElasticNetCV\n",
    "from sklearn.preprocessing import StandardScaler as sdscale\n",
    "\n",
    "\n",
    "\n"
   ]
  },
  {
   "cell_type": "markdown",
   "metadata": {},
   "source": [
    "## Data Preparation and Cleaning\n",
    "\n",
    "Reading in the data"
   ]
  },
  {
   "cell_type": "code",
   "execution_count": 30,
   "metadata": {},
   "outputs": [],
   "source": [
    "train = pd.read_csv(r\"C:\\Users\\jmoore42\\Downloads\\train.csv\", header=0)\n",
    "test = pd.read_csv(r\"C:\\Users\\jmoore42\\Downloads\\test.csv\", header=0)"
   ]
  },
  {
   "cell_type": "markdown",
   "metadata": {},
   "source": [
    "Here I use cross-tabs to examine why values are missing. For example, if those who have 0 in # of cars in garage also don't have a rating on garage quality, we can conclude this is a major reason why they are missing."
   ]
  },
  {
   "cell_type": "code",
   "execution_count": 3,
   "metadata": {},
   "outputs": [
    {
     "name": "stdout",
     "output_type": "stream",
     "text": [
      "['AllPub' 'NoSeWa']\n",
      "FireplaceQu  Ex  Fa   Gd  Po   TA\n",
      "Fireplaces                       \n",
      "1            19  28  324  20  259\n",
      "2             4   4   54   0   53\n",
      "3             1   1    2   0    1\n",
      "GarageCond  Ex  Fa  Gd  Po   TA\n",
      "GarageCars                     \n",
      "1            2  21   2   6  338\n",
      "2            0  12   7   1  804\n",
      "3            0   2   0   0  179\n",
      "4            0   0   0   0    5\n",
      "1stFlrSF  1118  1309  1360  1392  1575  2411  4692\n",
      "PoolQC                                            \n",
      "Ex           0     0     1     0     0     1     0\n",
      "Fa           0     1     0     1     0     0     0\n",
      "Gd           1     0     0     0     1     0     1\n",
      "TotalBsmtSF   105   190   264   270   290   319   360   372   384   408   \\\n",
      "BsmtFinType1                                                               \n",
      "ALQ              0     0     0     0     0     0     0     1     1     0   \n",
      "BLQ              0     0     0     0     0     0     0     0     0     0   \n",
      "GLQ              0     0     0     0     0     0     0     0     1     1   \n",
      "LwQ              0     0     0     0     0     0     0     0     0     0   \n",
      "Rec              0     0     0     0     1     0     0     0     0     0   \n",
      "Unf              1     1     3     1     0     1     1     0     5     0   \n",
      "\n",
      "TotalBsmtSF   ...   2392  2396  2444  2524  2633  3094  3138  3200  3206  6110  \n",
      "BsmtFinType1  ...                                                               \n",
      "ALQ           ...      0     0     0     1     0     0     0     0     0     0  \n",
      "BLQ           ...      0     0     0     0     0     0     0     0     0     0  \n",
      "GLQ           ...      1     1     1     0     1     1     1     1     1     1  \n",
      "LwQ           ...      0     0     0     0     0     0     0     0     0     0  \n",
      "Rec           ...      0     0     0     0     0     0     0     0     0     0  \n",
      "Unf           ...      0     0     0     0     0     0     0     0     0     0  \n",
      "\n",
      "[6 rows x 720 columns]\n"
     ]
    }
   ],
   "source": [
    "print(train.Utilities.unique())\n",
    "print(pd.crosstab(train.Fireplaces, train.FireplaceQu))\n",
    "#we want to replace Fireplace quality with either 0 (there is no fireplace) or the mean(fireplace quality\n",
    "#is a proxy for house quality)\n",
    "\n",
    "print(pd.crosstab(train.GarageCars, train.GarageCond))\n",
    "train.GarageCars.describe() #min is 0, but 0 not included in cross-tab.\n",
    "##For the garage variables, it is missing if there is no garage.\n",
    "\n",
    "#print(pd.crosstab(train.BsmtFinSF2, train.BsmtExposure))\n",
    "\n",
    "#print(train.LotFrontage.describe())\n",
    "#print(train.LotSize.describe())\n",
    "\n",
    "print((pd.crosstab(train.PoolQC, train['1stFlrSF'])))\n",
    "train['1stFlrSF'].describe()\n",
    "#all the houses with a pool quality rating are above the median in sqft\n",
    "#train.iloc[:,50:-1].describe()\n",
    "#train.iloc[:,0:50].describe()\n",
    "\n",
    "print(pd.crosstab(train.BsmtFinType1, train.TotalBsmtSF))\n",
    "#those with no basement area have no basement type\n",
    "\n",
    "#still need to figure out how I am going to treat missing\n",
    "#option 1 --> fill with mean or overall quality (e.g. it is a proxy measure of quality)\n",
    "#option 2 --> use a regression on area or # of cars and use the predicted value (what the quality would \n",
    "#be)\n"
   ]
  },
  {
   "cell_type": "markdown",
   "metadata": {},
   "source": [
    "#### Categorical Data\n",
    "Examine objects and other potential variables that should potentially be modeled categoriaclly"
   ]
  },
  {
   "cell_type": "code",
   "execution_count": 3,
   "metadata": {},
   "outputs": [],
   "source": [
    "\n",
    "#first, selecting string columns that measure quality or condition and putting into a new dataframe\n",
    "qual = train.select_dtypes('object').filter(regex='Q')\n",
    "cond = train.select_dtypes('object').filter(regex='Cond')\n",
    "#for x in range(0,len(qual.columns)):\n",
    "    #print(qual.iloc[:,x].unique())\n",
    "#all of the quality ratings are on a scale from Poor to Fair\n",
    "\n",
    "\n",
    "names_qual = list(qual.columns)\n",
    "names_cond = list(cond.columns)"
   ]
  },
  {
   "cell_type": "markdown",
   "metadata": {},
   "source": [
    "Turning ordinal variables into quantiative ones (mostly to do with quality and condition)"
   ]
  },
  {
   "cell_type": "code",
   "execution_count": 4,
   "metadata": {},
   "outputs": [
    {
     "name": "stdout",
     "output_type": "stream",
     "text": [
      "['Norm' 'Feedr' 'PosN' 'Artery' 'RRAe' 'RRNn' 'RRAn' 'PosA' 'RRNe']\n",
      "['Norm' 'Artery' 'RRNn' 'Feedr' 'PosN' 'PosA' 'RRAn' 'RRAe']\n",
      "['TA' 'Gd' 'Fa' 'Po' 'Ex']\n",
      "['TA' 'Gd' nan 'Fa' 'Po']\n",
      "['TA' 'Fa' nan 'Gd' 'Po' 'Ex']\n",
      "['Normal' 'Abnorml' 'Partial' 'AdjLand' 'Alloca' 'Family']\n"
     ]
    }
   ],
   "source": [
    "qual_encode = {'Po': 1, 'TA': 2, 'Fa':3, 'Gd': 4, 'Ex':5, np.NaN: 0}\n",
    "\n",
    "for x in range(0,len(qual.columns)):\n",
    "    qual.iloc[:,x]=qual.iloc[:,x].map(qual_encode)\n",
    "\n",
    "qual.columns = names_qual\n",
    "#now all the quality variables are assigned\n",
    "    \n",
    "for x in range(0,len(cond.columns)):\n",
    "    print(cond.iloc[:,x].unique())\n",
    "# only about half of the condition columns have the same   \n",
    "\n",
    "for x in range(2,5):\n",
    "    cond.iloc[:,x]=cond.iloc[:,x].map(qual_encode)\n"
   ]
  },
  {
   "cell_type": "code",
   "execution_count": 5,
   "metadata": {},
   "outputs": [],
   "source": [
    "newdata = pd.concat([cond,qual,train],axis=1)\n",
    "\n",
    "newdata['Functional']=newdata['Functional'].map({'Typ':10, 'Min1':9 , 'Min2':8 , 'Mod':6, 'Maj1':4, 'Maj2':3, 'Sev':2, 'Sal':0})\n",
    "newdata['LotShape']=newdata['LotShape'].map({'Reg': 3, 'IR1':2, 'IR2':1, 'IR3':0 })\n",
    "newdata['LandSlope']=newdata['LandSlope'].map({'Gtl': 2, 'Mod': 1, 'Sev':0})\n",
    "newdata['Utilities']=newdata['Utilities'].map( {'AllPub': 3, 'NoSewr':2,'NoSeWa':1, 'ELO':0})\n",
    "newdata['BsmtExposure']=newdata['BsmtExposure'].map({'Gd': 3, 'Av': 2, 'Mn': 1, 'No': 0, np.NaN: 0})\n",
    "newdata['BsmtFinType1']=newdata['BsmtFinType1'].map({'GLQ': 5, 'ALQ': 4, 'BLQ': 3, 'Rec':2, 'LwQ': 1, 'Unf':0, np.NaN:0})\n",
    "newdata['BsmtFinType2']=newdata['BsmtFinType2'].map({'GLQ': 5, 'ALQ': 4, 'BLQ': 3, 'Rec':2, 'LwQ': 1, 'Unf':0, np.NaN:0})\n",
    "                                                     \n",
    "train = newdata.loc[:,~newdata.columns.duplicated()]\n"
   ]
  },
  {
   "cell_type": "code",
   "execution_count": 6,
   "metadata": {},
   "outputs": [],
   "source": [
    "#first, dropping columns that have less than 1/3rd of observations not missing\n",
    "train = train.drop(columns=['Fence','MiscFeature','Alley'])\n"
   ]
  },
  {
   "cell_type": "markdown",
   "metadata": {},
   "source": [
    "Making dummies out of all remaining categorical variables"
   ]
  },
  {
   "cell_type": "code",
   "execution_count": 7,
   "metadata": {},
   "outputs": [],
   "source": [
    "train_withdummies=pd.get_dummies(train, drop_first=True)\n",
    "#train_withdummies.select_dtypes('object').info()\n",
    "#when I run this code it tells me that there are no objects"
   ]
  },
  {
   "cell_type": "code",
   "execution_count": 9,
   "metadata": {},
   "outputs": [
    {
     "data": {
      "text/plain": [
       "(1460, 78)"
      ]
     },
     "execution_count": 9,
     "metadata": {},
     "output_type": "execute_result"
    }
   ],
   "source": [
    "train.shape"
   ]
  },
  {
   "cell_type": "markdown",
   "metadata": {},
   "source": [
    "Doing the above with the test data"
   ]
  },
  {
   "cell_type": "code",
   "execution_count": 31,
   "metadata": {},
   "outputs": [
    {
     "name": "stdout",
     "output_type": "stream",
     "text": [
      "['Feedr' 'Norm' 'PosN' 'RRNe' 'Artery' 'RRNn' 'PosA' 'RRAn' 'RRAe']\n",
      "['Norm' 'Feedr' 'PosA' 'PosN' 'Artery']\n",
      "['TA' 'Gd' 'Fa' 'Po' 'Ex']\n",
      "['TA' 'Po' 'Fa' 'Gd' nan]\n",
      "['TA' nan 'Fa' 'Gd' 'Po' 'Ex']\n",
      "['Normal' 'Partial' 'Abnorml' 'Family' 'Alloca' 'AdjLand']\n"
     ]
    }
   ],
   "source": [
    "#first, selecting string columns that measure quality or condition and putting into a new dataframe\n",
    "qual = test.select_dtypes('object').filter(regex='Q')\n",
    "cond = test.select_dtypes('object').filter(regex='Cond')\n",
    "#for x in range(0,len(qual.columns)):\n",
    "    #print(qual.iloc[:,x].unique())\n",
    "#all of the quality ratings are on a scale from Poor to Fair\n",
    "\n",
    "\n",
    "names_qual = list(qual.columns)\n",
    "names_cond = list(cond.columns)\n",
    "\n",
    "qual_encode = {'Po': 1, 'TA': 2, 'Fa':3, 'Gd': 4, 'Ex':5, np.NaN: 0}\n",
    "\n",
    "for x in range(0,len(qual.columns)):\n",
    "    qual.iloc[:,x]=qual.iloc[:,x].map(qual_encode)\n",
    "\n",
    "qual.columns = names_qual\n",
    "#now all the quality variables are assigned\n",
    "    \n",
    "for x in range(0,len(cond.columns)):\n",
    "    print(cond.iloc[:,x].unique())\n",
    "# only about half of the condition columns have the same   \n",
    "\n",
    "for x in range(2,5):\n",
    "    cond.iloc[:,x]=cond.iloc[:,x].map(qual_encode)\n",
    "    \n",
    "newdata = pd.concat([cond,qual,test],axis=1)\n",
    "\n",
    "newdata['Functional']=newdata['Functional'].map({'Typ':10, 'Min1':9 , 'Min2':8 , 'Mod':6, 'Maj1':4, 'Maj2':3, 'Sev':2, 'Sal':0})\n",
    "newdata['LotShape']=newdata['LotShape'].map({'Reg': 3, 'IR1':2, 'IR2':1, 'IR3':0 })\n",
    "newdata['LandSlope']=newdata['LandSlope'].map({'Gtl': 2, 'Mod': 1, 'Sev':0})\n",
    "newdata['Utilities']=newdata['Utilities'].map( {'AllPub': 3, 'NoSewr':2,'NoSeWa':1, 'ELO':0})\n",
    "newdata['BsmtExposure']=newdata['BsmtExposure'].map({'Gd': 3, 'Av': 2, 'Mn': 1, 'No': 0, np.NaN: 0})\n",
    "newdata['BsmtFinType1']=newdata['BsmtFinType1'].map({'GLQ': 5, 'ALQ': 4, 'BLQ': 3, 'Rec':2, 'LwQ': 1, 'Unf':0, np.NaN:0})\n",
    "newdata['BsmtFinType2']=newdata['BsmtFinType2'].map({'GLQ': 5, 'ALQ': 4, 'BLQ': 3, 'Rec':2, 'LwQ': 1, 'Unf':0, np.NaN:0})\n",
    "                                                     \n",
    "test = newdata.loc[:,~newdata.columns.duplicated()]\n",
    "\n",
    "#first, dropping columns that have less than 1/3rd of observations not missing\n",
    "test = test.drop(columns=['Fence','MiscFeature','Alley'])\n",
    "\n",
    "test_withdummies=pd.get_dummies(test, drop_first=True)\n",
    "#train_withdummies.select_dtypes('object').info()\n",
    "#when I run this code it tells me that there are no objects\n"
   ]
  },
  {
   "cell_type": "markdown",
   "metadata": {},
   "source": [
    "Taking missing values and replacing appropriately"
   ]
  },
  {
   "cell_type": "code",
   "execution_count": 9,
   "metadata": {},
   "outputs": [],
   "source": [
    "my_list = []\n",
    "for x in range(0,len(train_withdummies.columns)):\n",
    "        if sum(train_withdummies.iloc[:,x].isnull())>0:\n",
    "            my_list.append(x)\n",
    "            \n",
    "for x in my_list:\n",
    "    train_withdummies.iloc[:,x] = train_withdummies.iloc[:,x].fillna(train_withdummies.iloc[:,x].mean())"
   ]
  },
  {
   "cell_type": "markdown",
   "metadata": {},
   "source": [
    "Separating target and features, and log-transforming the target"
   ]
  },
  {
   "cell_type": "code",
   "execution_count": 10,
   "metadata": {},
   "outputs": [],
   "source": [
    "target = train_withdummies.SalePrice\n",
    "features = train_withdummies.drop(['SalePrice'],axis=1)\n",
    "ln_target = np.log(target)\n"
   ]
  },
  {
   "cell_type": "markdown",
   "metadata": {},
   "source": [
    "\n",
    "Standardizing both features and features excluding dummy variables"
   ]
  },
  {
   "cell_type": "code",
   "execution_count": 13,
   "metadata": {},
   "outputs": [
    {
     "name": "stderr",
     "output_type": "stream",
     "text": [
      "C:\\Users\\jmoore42\\AppData\\Local\\Continuum\\anaconda3\\lib\\site-packages\\sklearn\\preprocessing\\data.py:625: DataConversionWarning: Data with input dtype uint8, int64, float64 were all converted to float64 by StandardScaler.\n",
      "  return self.partial_fit(X, y)\n",
      "C:\\Users\\jmoore42\\AppData\\Local\\Continuum\\anaconda3\\lib\\site-packages\\ipykernel_launcher.py:3: DataConversionWarning: Data with input dtype uint8, int64, float64 were all converted to float64 by StandardScaler.\n",
      "  This is separate from the ipykernel package so we can avoid doing imports until\n",
      "C:\\Users\\jmoore42\\AppData\\Local\\Continuum\\anaconda3\\lib\\site-packages\\sklearn\\preprocessing\\data.py:625: DataConversionWarning: Data with input dtype int64, float64 were all converted to float64 by StandardScaler.\n",
      "  return self.partial_fit(X, y)\n",
      "C:\\Users\\jmoore42\\AppData\\Local\\Continuum\\anaconda3\\lib\\site-packages\\ipykernel_launcher.py:6: DataConversionWarning: Data with input dtype int64, float64 were all converted to float64 by StandardScaler.\n",
      "  \n"
     ]
    }
   ],
   "source": [
    "scaler =sdscale()\n",
    "scaler.fit(features)\n",
    "std_features = pd.DataFrame(scaler.transform(features))\n",
    "numeric = features.select_dtypes(['float64','int64'])\n",
    "scaler.fit(numeric)\n",
    "std_numeric = pd.DataFrame(scaler.transform(numeric))"
   ]
  },
  {
   "cell_type": "markdown",
   "metadata": {},
   "source": [
    "Standardizing the DV, to get an idea of what the standardized effec sizes look like"
   ]
  },
  {
   "cell_type": "code",
   "execution_count": 14,
   "metadata": {},
   "outputs": [],
   "source": [
    "scaler =sdscale()\n",
    "scaler.fit(pd.DataFrame(ln_target))\n",
    "std_target = pd.DataFrame(scaler.transform(pd.DataFrame(ln_target)))\n"
   ]
  },
  {
   "cell_type": "markdown",
   "metadata": {},
   "source": [
    "Fixing missing values and dummy variables with the teset data"
   ]
  },
  {
   "cell_type": "code",
   "execution_count": 33,
   "metadata": {},
   "outputs": [
    {
     "name": "stderr",
     "output_type": "stream",
     "text": [
      "C:\\Users\\jmoore42\\AppData\\Local\\Continuum\\anaconda3\\lib\\site-packages\\sklearn\\preprocessing\\data.py:625: DataConversionWarning: Data with input dtype uint8, int64, float64 were all converted to float64 by StandardScaler.\n",
      "  return self.partial_fit(X, y)\n",
      "C:\\Users\\jmoore42\\AppData\\Local\\Continuum\\anaconda3\\lib\\site-packages\\ipykernel_launcher.py:13: DataConversionWarning: Data with input dtype uint8, int64, float64 were all converted to float64 by StandardScaler.\n",
      "  del sys.path[0]\n",
      "C:\\Users\\jmoore42\\AppData\\Local\\Continuum\\anaconda3\\lib\\site-packages\\sklearn\\preprocessing\\data.py:625: DataConversionWarning: Data with input dtype int64, float64 were all converted to float64 by StandardScaler.\n",
      "  return self.partial_fit(X, y)\n",
      "C:\\Users\\jmoore42\\AppData\\Local\\Continuum\\anaconda3\\lib\\site-packages\\ipykernel_launcher.py:16: DataConversionWarning: Data with input dtype int64, float64 were all converted to float64 by StandardScaler.\n",
      "  app.launch_new_instance()\n"
     ]
    }
   ],
   "source": [
    "my_list = []\n",
    "for x in range(0,len(test_withdummies.columns)):\n",
    "        if sum(test_withdummies.iloc[:,x].isnull())>0:\n",
    "            my_list.append(x)\n",
    "            \n",
    "for x in my_list:\n",
    "    test_withdummies.iloc[:,x] = test_withdummies.iloc[:,x].fillna(test_withdummies.iloc[:,x].mean())\n",
    "\n",
    "features_test = test_withdummies\n",
    "    \n",
    "scaler =sdscale()\n",
    "scaler.fit(features_test)\n",
    "std_features_test = pd.DataFrame(scaler.transform(features_test))\n",
    "numeric_test = features_test.select_dtypes(['float64','int64'])\n",
    "scaler.fit(numeric_test)\n",
    "std_numeric_test = pd.DataFrame(scaler.transform(numeric_test))\n"
   ]
  },
  {
   "cell_type": "markdown",
   "metadata": {},
   "source": [
    "## Modeling"
   ]
  },
  {
   "cell_type": "markdown",
   "metadata": {},
   "source": [
    "First, we are just going to run a few regressions without trying use any regularization. We will instead use different combinations of features.\n",
    "\n",
    "##### Just numeric features"
   ]
  },
  {
   "cell_type": "code",
   "execution_count": 17,
   "metadata": {},
   "outputs": [
    {
     "name": "stdout",
     "output_type": "stream",
     "text": [
      "Best Parameters: {'tol': 1e-05, 'eta0': 0.01}\n",
      "Best Negative MSE: -0.11761415698930038\n"
     ]
    }
   ],
   "source": [
    "\n",
    "param_dist={\"eta0\":[.001, .003, .01, .0001, .0003],\"tol\":[.0001, .001, .00001]}\n",
    "\n",
    "linear_regression_model = greg(max_iter=30000)\n",
    "\n",
    "random_search = RandomizedSearchCV(linear_regression_model, param_distributions=param_dist,\n",
    "                                   n_iter=15, cv=5, scoring='neg_mean_squared_error')\n",
    "\n",
    "random_search.fit(std_numeric, pd.Series(ln_target))\n",
    "    \n",
    "print(\"Best Parameters: {}\".format(random_search.best_params_))\n",
    "print(\"Best Negative MSE: {}\".format(random_search.best_score_))\n",
    "\n"
   ]
  },
  {
   "cell_type": "code",
   "execution_count": 21,
   "metadata": {},
   "outputs": [],
   "source": [
    "random_search.best_estimator_.fit(std_numeric, pd.Series(ln_target))\n",
    "test2 = sorted(list(zip(numeric.columns, random_search.best_estimator_.coef_.round(3))), key=lambda coeff: abs(coeff[1]), reverse=True)[0:15]"
   ]
  },
  {
   "cell_type": "markdown",
   "metadata": {},
   "source": [
    "##### Including Dummy variables"
   ]
  },
  {
   "cell_type": "code",
   "execution_count": 18,
   "metadata": {},
   "outputs": [
    {
     "name": "stdout",
     "output_type": "stream",
     "text": [
      "Best Parameters: {'tol': 1e-05, 'eta0': 0.003}\n",
      "Best Negative MSE: -2.6900168079558155\n"
     ]
    }
   ],
   "source": [
    "param_dist={\"eta0\":[.001, .003, .01, .0001, .0003],\"tol\":[.0001, .001, .00001]}\n",
    "\n",
    "random_search = RandomizedSearchCV(linear_regression_model, param_distributions=param_dist,\n",
    "                                   n_iter=15, cv=5, scoring='neg_mean_squared_error')\n",
    "\n",
    "random_search.fit(std_features, pd.Series(ln_target))\n",
    "    \n",
    "print(\"Best Parameters: {}\".format(random_search.best_params_))\n",
    "print(\"Best Negative MSE: {}\".format(random_search.best_score_))\n",
    "\n",
    "\n"
   ]
  },
  {
   "cell_type": "markdown",
   "metadata": {},
   "source": [
    "Creating interaction terms based on the list of most impactful variables"
   ]
  },
  {
   "cell_type": "code",
   "execution_count": 22,
   "metadata": {},
   "outputs": [],
   "source": [
    "res_list = [x[0] for x in test2]\n",
    "\n",
    "std_numeric.columns = numeric.columns\n",
    "df=std_numeric.iloc[:]\n",
    "ls=res_list\n",
    "\n",
    "for k in range(0,len(ls)):\n",
    "    for j in range (k+1,len(ls)):\n",
    "        df[ls[k]+\"X\"+ls[j]]=df[ls[k]]*df[ls[j]]\n",
    "\n"
   ]
  },
  {
   "cell_type": "code",
   "execution_count": 23,
   "metadata": {},
   "outputs": [
    {
     "name": "stdout",
     "output_type": "stream",
     "text": [
      "Best Parameters: {'tol': 1e-05, 'eta0': 0.0001}\n",
      "Best Negative MSE: -0.35470547569808364\n"
     ]
    }
   ],
   "source": [
    "\n",
    "random_search.fit(df, pd.Series(ln_target))\n",
    "    \n",
    "print(\"Best Parameters: {}\".format(random_search.best_params_))\n",
    "print(\"Best Negative MSE: {}\".format(random_search.best_score_))"
   ]
  },
  {
   "cell_type": "markdown",
   "metadata": {},
   "source": [
    "Looks like there are too many features: the mse is huge!"
   ]
  },
  {
   "cell_type": "markdown",
   "metadata": {},
   "source": [
    "### Using the elastic net\n",
    "\n",
    "Note: the array printed by the command .mse_path_ prints matrices from smallest l1 to largest top to bottom, and then largest to smallest alpha top to bottom. Each row represents a different fold"
   ]
  },
  {
   "cell_type": "code",
   "execution_count": 25,
   "metadata": {},
   "outputs": [
    {
     "name": "stdout",
     "output_type": "stream",
     "text": [
      "Validation MSE: 0.13976406508469635\n",
      "0.03\n"
     ]
    }
   ],
   "source": [
    "\n",
    "\n",
    "# l1 ratio of zero is l2 and visa-versa \n",
    "# alphas are how much to weight regularization\n",
    "clf = ElasticNetCV(l1_ratio=[.1, .5, .7, .9, .95, .99, 1], alphas=[.01,0.03,.06,.09,.3,.4], cv=5, tol=10**-5)\n",
    "clf.fit(std_numeric, ln_target)\n",
    "train_predictions = clf.predict(std_numeric)\n",
    "print(\"Validation MSE: {}\".format(np.sqrt(mse(ln_target, train_predictions))))\n",
    "print(clf.alpha_)\n",
    "clf.score(std_numeric, ln_target)\n",
    "alpha = clf.alpha_\n",
    "l1 = clf.l1_ratio_"
   ]
  },
  {
   "cell_type": "code",
   "execution_count": 24,
   "metadata": {},
   "outputs": [
    {
     "data": {
      "text/plain": [
       "0.1"
      ]
     },
     "execution_count": 24,
     "metadata": {},
     "output_type": "execute_result"
    }
   ],
   "source": [
    "l1"
   ]
  },
  {
   "cell_type": "code",
   "execution_count": 26,
   "metadata": {},
   "outputs": [
    {
     "name": "stdout",
     "output_type": "stream",
     "text": [
      "0.22606009401041682\n"
     ]
    }
   ],
   "source": [
    "clftuned = ElasticNetCV(l1_ratio=[l1], alphas=[alpha], cv=5, tol=10**-5)\n",
    "clf.fit(std_numeric, ln_target)\n",
    "print(np.sqrt(clf.mse_path_).mean())"
   ]
  },
  {
   "cell_type": "markdown",
   "metadata": {},
   "source": [
    "The cell below uses the dataframe with dummy variables"
   ]
  },
  {
   "cell_type": "code",
   "execution_count": 27,
   "metadata": {},
   "outputs": [
    {
     "name": "stdout",
     "output_type": "stream",
     "text": [
      "Validation RMSE: 0.11910440279150833\n",
      "0.03\n",
      "0.22359232553770494\n"
     ]
    }
   ],
   "source": [
    "\n",
    "# l1 ratio of zero is l2 and visa-versa \n",
    "# alphas are how much to weight regularization\n",
    "clf.fit(std_features, pd.Series(ln_target))\n",
    "train_predictions2 = clf.predict(std_features)\n",
    "print(\"Validation RMSE: {}\".format(np.sqrt(mse(ln_target, train_predictions2))))\n",
    "print(clf.alpha_)\n",
    "clf.score(std_features, ln_target)\n",
    "alpha = clf.alpha_\n",
    "l1 = clf.l1_ratio_\n",
    "clftuned = ElasticNetCV(l1_ratio=[l1], alphas=[alpha], cv=5, tol=10**-5)\n",
    "clf.fit(std_features, ln_target)\n",
    "print(np.sqrt(clf.mse_path_).mean())\n"
   ]
  },
  {
   "cell_type": "markdown",
   "metadata": {},
   "source": [
    "The cell below also includes features that were created using interaction terms"
   ]
  },
  {
   "cell_type": "code",
   "execution_count": 28,
   "metadata": {},
   "outputs": [
    {
     "name": "stdout",
     "output_type": "stream",
     "text": [
      "0.01\n",
      "0.1462439297798633\n"
     ]
    }
   ],
   "source": [
    "\n",
    "# l1 ratio of zero is l2 and visa-versa \n",
    "# alphas are how much to weight regularization\n",
    "clf = ElasticNetCV(l1_ratio=[.1, .3, .9], alphas=[.06,.03,.01], cv=8, tol=10**-5, max_iter=50000)\n",
    "#test_predictions3 = clf.predict(df)\n",
    "clf.fit(df, ln_target)\n",
    "#print(\"Validation RMSE: {}\".format(np.sqrt(mse(ln_target, train_predictions3))))\n",
    "print(clf.alpha_)\n",
    "clf.score(df, ln_target)\n",
    "alpha = clf.alpha_\n",
    "l1 = clf.l1_ratio_\n",
    "clftuned = ElasticNetCV(l1_ratio=[l1], alphas=[alpha], cv=5, tol=10**-5)\n",
    "clftuned.fit(df, ln_target)\n",
    "print(np.sqrt(clf.mse_path_).mean())\n"
   ]
  },
  {
   "cell_type": "code",
   "execution_count": 29,
   "metadata": {},
   "outputs": [
    {
     "data": {
      "text/plain": [
       "[('GrLivArea', 0.132),\n",
       " ('OverallQual', 0.083),\n",
       " ('YearBuilt', 0.068),\n",
       " ('OverallCond', 0.039),\n",
       " ('GrLivAreaX1stFlrSF', -0.038),\n",
       " ('TotalBsmtSF', 0.036),\n",
       " ('BsmtFinSF1', 0.031),\n",
       " ('1stFlrSF', 0.03),\n",
       " ('GarageCars', 0.023),\n",
       " ('LotArea', 0.019),\n",
       " ('Functional', 0.017),\n",
       " ('Fireplaces', 0.015),\n",
       " ('GarageArea', 0.015),\n",
       " ('HeatingQC', 0.014),\n",
       " ('MSSubClass', -0.012),\n",
       " ('YearRemodAdd', 0.012),\n",
       " ('KitchenAbvGr', -0.012),\n",
       " ('KitchenQual', 0.011),\n",
       " ('BsmtExposure', 0.011),\n",
       " ('YearBuiltXOverallCond', -0.011),\n",
       " ('FireplaceQu', 0.01),\n",
       " ('FullBath', 0.01),\n",
       " ('BsmtFinType1', 0.009),\n",
       " ('HalfBath', 0.009),\n",
       " ('ScreenPorch', 0.009),\n",
       " ('PoolQCXFireplaceQu', -0.009),\n",
       " ('LotFrontage', 0.008),\n",
       " ('YearBuiltXFireplaceQu', -0.008),\n",
       " ('PoolAreaXBsmtFullBath', -0.008),\n",
       " ('ExterQual', 0.007)]"
      ]
     },
     "execution_count": 29,
     "metadata": {},
     "output_type": "execute_result"
    }
   ],
   "source": [
    "sorted(list(zip(df.columns, clf.coef_.round(3))), key=lambda coeff: abs(coeff[1]), reverse=True)[0:30]"
   ]
  },
  {
   "cell_type": "markdown",
   "metadata": {},
   "source": [
    "### Getting Ready to Export"
   ]
  },
  {
   "cell_type": "markdown",
   "metadata": {},
   "source": [
    "Creating test predictions from the best model\n",
    "<br>\n",
    "first, adding in interaction terms like before"
   ]
  },
  {
   "cell_type": "code",
   "execution_count": 34,
   "metadata": {},
   "outputs": [],
   "source": [
    "res_list = [x[0] for x in test2]\n",
    "\n",
    "std_numeric_test.columns = numeric_test.columns\n",
    "df_test=std_numeric_test.iloc[:]\n",
    "ls=res_list\n",
    "\n",
    "for k in range(0,len(ls)):\n",
    "    for j in range (k+1,len(ls)):\n",
    "        df_test[ls[k]+\"X\"+ls[j]]=df_test[ls[k]]*df_test[ls[j]]\n"
   ]
  },
  {
   "cell_type": "code",
   "execution_count": 35,
   "metadata": {},
   "outputs": [],
   "source": [
    "\n",
    "test_predictions3 = clftuned.predict(df_test)"
   ]
  },
  {
   "cell_type": "markdown",
   "metadata": {},
   "source": [
    "Plotting how many the difference between observed and predicted values in terms of SD of Y"
   ]
  },
  {
   "cell_type": "code",
   "execution_count": 98,
   "metadata": {},
   "outputs": [
    {
     "data": {
      "text/plain": [
       "<matplotlib.axes._subplots.AxesSubplot at 0x1bd814e2c50>"
      ]
     },
     "execution_count": 98,
     "metadata": {},
     "output_type": "execute_result"
    },
    {
     "data": {
      "image/png": "[encoded data removed]",
      "text/plain": [
       "<Figure size 432x288 with 1 Axes>"
      ]
     },
     "metadata": {
      "needs_background": "light"
     },
     "output_type": "display_data"
    }
   ],
   "source": [
    "stdtargets = pd.Series(std_target[0])\n",
    "pred = pd.Series(predictions)\n",
    "diff = pred.sub(stdtargets)\n",
    "diff[diff<1][diff>-1].hist(bins=50)"
   ]
  },
  {
   "cell_type": "markdown",
   "metadata": {},
   "source": [
    "Plotting in terms of raw units"
   ]
  },
  {
   "cell_type": "code",
   "execution_count": 104,
   "metadata": {},
   "outputs": [
    {
     "data": {
      "text/plain": [
       "<matplotlib.axes._subplots.AxesSubplot at 0x1bd819b98d0>"
      ]
     },
     "execution_count": 104,
     "metadata": {},
     "output_type": "execute_result"
    },
    {
     "data": {
      "image/png": "[encoded data removed]",
      "text/plain": [
       "<Figure size 432x288 with 1 Axes>"
      ]
     },
     "metadata": {
      "needs_background": "light"
     },
     "output_type": "display_data"
    }
   ],
   "source": [
    "linear_regression_model.fit(std_df, target)\n",
    "predictions = linear_regression_model.predict(std_df)\n",
    "pred=pd.Series(predictions)\n",
    "diff2 = pred.sub(target)\n",
    "diff2[diff2<100000][diff2>-100000].hist(bins=50)\n"
   ]
  },
  {
   "cell_type": "code",
   "execution_count": 107,
   "metadata": {},
   "outputs": [
    {
     "name": "stdout",
     "output_type": "stream",
     "text": [
      "502389.16542760166\n"
     ]
    },
    {
     "data": {
      "image/png": "[encoded data removed]",
      "text/plain": [
       "<Figure size 432x288 with 1 Axes>"
      ]
     },
     "metadata": {
      "needs_background": "light"
     },
     "output_type": "display_data"
    }
   ],
   "source": [
    "diff2.hist(bins=100)\n",
    "print(max(diff2))"
   ]
  },
  {
   "cell_type": "code",
   "execution_count": 49,
   "metadata": {},
   "outputs": [],
   "source": [
    "submission = pd.DataFrame({\"Id\":test['Id'],\"SalePrice\":np.exp(test_predictions3)})"
   ]
  },
  {
   "cell_type": "code",
   "execution_count": 52,
   "metadata": {},
   "outputs": [],
   "source": [
    "submission.to_csv(r\"C:\\Users\\jmoore42\\Documents\\housing_submission1.csv\")"
   ]
  },
  {
   "cell_type": "code",
   "execution_count": 53,
   "metadata": {},
   "outputs": [
    {
     "data": {
      "text/html": [
       "<div>\n",
       "<style scoped>\n",
       "    .dataframe tbody tr th:only-of-type {\n",
       "        vertical-align: middle;\n",
       "    }\n",
       "\n",
       "    .dataframe tbody tr th {\n",
       "        vertical-align: top;\n",
       "    }\n",
       "\n",
       "    .dataframe thead th {\n",
       "        text-align: right;\n",
       "    }\n",
       "</style>\n",
       "<table border=\"1\" class=\"dataframe\">\n",
       "  <thead>\n",
       "    <tr style=\"text-align: right;\">\n",
       "      <th></th>\n",
       "      <th>Id</th>\n",
       "      <th>SalePrice</th>\n",
       "    </tr>\n",
       "  </thead>\n",
       "  <tbody>\n",
       "    <tr>\n",
       "      <th>0</th>\n",
       "      <td>1461</td>\n",
       "      <td>117485.601597</td>\n",
       "    </tr>\n",
       "    <tr>\n",
       "      <th>1</th>\n",
       "      <td>1462</td>\n",
       "      <td>160498.307446</td>\n",
       "    </tr>\n",
       "    <tr>\n",
       "      <th>2</th>\n",
       "      <td>1463</td>\n",
       "      <td>182878.157932</td>\n",
       "    </tr>\n",
       "    <tr>\n",
       "      <th>3</th>\n",
       "      <td>1464</td>\n",
       "      <td>197589.470887</td>\n",
       "    </tr>\n",
       "    <tr>\n",
       "      <th>4</th>\n",
       "      <td>1465</td>\n",
       "      <td>183983.069753</td>\n",
       "    </tr>\n",
       "    <tr>\n",
       "      <th>5</th>\n",
       "      <td>1466</td>\n",
       "      <td>172989.193482</td>\n",
       "    </tr>\n",
       "    <tr>\n",
       "      <th>6</th>\n",
       "      <td>1467</td>\n",
       "      <td>179497.760842</td>\n",
       "    </tr>\n",
       "    <tr>\n",
       "      <th>7</th>\n",
       "      <td>1468</td>\n",
       "      <td>160909.310541</td>\n",
       "    </tr>\n",
       "    <tr>\n",
       "      <th>8</th>\n",
       "      <td>1469</td>\n",
       "      <td>202059.830762</td>\n",
       "    </tr>\n",
       "    <tr>\n",
       "      <th>9</th>\n",
       "      <td>1470</td>\n",
       "      <td>113878.071221</td>\n",
       "    </tr>\n",
       "    <tr>\n",
       "      <th>10</th>\n",
       "      <td>1471</td>\n",
       "      <td>202362.742676</td>\n",
       "    </tr>\n",
       "    <tr>\n",
       "      <th>11</th>\n",
       "      <td>1472</td>\n",
       "      <td>98157.944268</td>\n",
       "    </tr>\n",
       "    <tr>\n",
       "      <th>12</th>\n",
       "      <td>1473</td>\n",
       "      <td>99362.670132</td>\n",
       "    </tr>\n",
       "    <tr>\n",
       "      <th>13</th>\n",
       "      <td>1474</td>\n",
       "      <td>152195.185879</td>\n",
       "    </tr>\n",
       "    <tr>\n",
       "      <th>14</th>\n",
       "      <td>1475</td>\n",
       "      <td>112504.636915</td>\n",
       "    </tr>\n",
       "    <tr>\n",
       "      <th>15</th>\n",
       "      <td>1476</td>\n",
       "      <td>337519.325077</td>\n",
       "    </tr>\n",
       "    <tr>\n",
       "      <th>16</th>\n",
       "      <td>1477</td>\n",
       "      <td>235296.510377</td>\n",
       "    </tr>\n",
       "    <tr>\n",
       "      <th>17</th>\n",
       "      <td>1478</td>\n",
       "      <td>291480.347830</td>\n",
       "    </tr>\n",
       "    <tr>\n",
       "      <th>18</th>\n",
       "      <td>1479</td>\n",
       "      <td>280295.864582</td>\n",
       "    </tr>\n",
       "    <tr>\n",
       "      <th>19</th>\n",
       "      <td>1480</td>\n",
       "      <td>426595.668031</td>\n",
       "    </tr>\n",
       "    <tr>\n",
       "      <th>20</th>\n",
       "      <td>1481</td>\n",
       "      <td>322080.748375</td>\n",
       "    </tr>\n",
       "    <tr>\n",
       "      <th>21</th>\n",
       "      <td>1482</td>\n",
       "      <td>209799.776543</td>\n",
       "    </tr>\n",
       "    <tr>\n",
       "      <th>22</th>\n",
       "      <td>1483</td>\n",
       "      <td>181733.550856</td>\n",
       "    </tr>\n",
       "    <tr>\n",
       "      <th>23</th>\n",
       "      <td>1484</td>\n",
       "      <td>166157.603187</td>\n",
       "    </tr>\n",
       "    <tr>\n",
       "      <th>24</th>\n",
       "      <td>1485</td>\n",
       "      <td>179400.920528</td>\n",
       "    </tr>\n",
       "    <tr>\n",
       "      <th>25</th>\n",
       "      <td>1486</td>\n",
       "      <td>204374.082121</td>\n",
       "    </tr>\n",
       "    <tr>\n",
       "      <th>26</th>\n",
       "      <td>1487</td>\n",
       "      <td>314296.850370</td>\n",
       "    </tr>\n",
       "    <tr>\n",
       "      <th>27</th>\n",
       "      <td>1488</td>\n",
       "      <td>247528.578303</td>\n",
       "    </tr>\n",
       "    <tr>\n",
       "      <th>28</th>\n",
       "      <td>1489</td>\n",
       "      <td>179341.645169</td>\n",
       "    </tr>\n",
       "    <tr>\n",
       "      <th>29</th>\n",
       "      <td>1490</td>\n",
       "      <td>228064.620228</td>\n",
       "    </tr>\n",
       "    <tr>\n",
       "      <th>...</th>\n",
       "      <td>...</td>\n",
       "      <td>...</td>\n",
       "    </tr>\n",
       "    <tr>\n",
       "      <th>1429</th>\n",
       "      <td>2890</td>\n",
       "      <td>80721.881059</td>\n",
       "    </tr>\n",
       "    <tr>\n",
       "      <th>1430</th>\n",
       "      <td>2891</td>\n",
       "      <td>144431.841219</td>\n",
       "    </tr>\n",
       "    <tr>\n",
       "      <th>1431</th>\n",
       "      <td>2892</td>\n",
       "      <td>63872.216794</td>\n",
       "    </tr>\n",
       "    <tr>\n",
       "      <th>1432</th>\n",
       "      <td>2893</td>\n",
       "      <td>96556.611430</td>\n",
       "    </tr>\n",
       "    <tr>\n",
       "      <th>1433</th>\n",
       "      <td>2894</td>\n",
       "      <td>69997.353287</td>\n",
       "    </tr>\n",
       "    <tr>\n",
       "      <th>1434</th>\n",
       "      <td>2895</td>\n",
       "      <td>290863.545437</td>\n",
       "    </tr>\n",
       "    <tr>\n",
       "      <th>1435</th>\n",
       "      <td>2896</td>\n",
       "      <td>274519.841461</td>\n",
       "    </tr>\n",
       "    <tr>\n",
       "      <th>1436</th>\n",
       "      <td>2897</td>\n",
       "      <td>216450.975834</td>\n",
       "    </tr>\n",
       "    <tr>\n",
       "      <th>1437</th>\n",
       "      <td>2898</td>\n",
       "      <td>157203.454529</td>\n",
       "    </tr>\n",
       "    <tr>\n",
       "      <th>1438</th>\n",
       "      <td>2899</td>\n",
       "      <td>208485.639260</td>\n",
       "    </tr>\n",
       "    <tr>\n",
       "      <th>1439</th>\n",
       "      <td>2900</td>\n",
       "      <td>162384.412501</td>\n",
       "    </tr>\n",
       "    <tr>\n",
       "      <th>1440</th>\n",
       "      <td>2901</td>\n",
       "      <td>231200.572921</td>\n",
       "    </tr>\n",
       "    <tr>\n",
       "      <th>1441</th>\n",
       "      <td>2902</td>\n",
       "      <td>204910.008532</td>\n",
       "    </tr>\n",
       "    <tr>\n",
       "      <th>1442</th>\n",
       "      <td>2903</td>\n",
       "      <td>330384.326303</td>\n",
       "    </tr>\n",
       "    <tr>\n",
       "      <th>1443</th>\n",
       "      <td>2904</td>\n",
       "      <td>351247.884786</td>\n",
       "    </tr>\n",
       "    <tr>\n",
       "      <th>1444</th>\n",
       "      <td>2905</td>\n",
       "      <td>85121.930120</td>\n",
       "    </tr>\n",
       "    <tr>\n",
       "      <th>1445</th>\n",
       "      <td>2906</td>\n",
       "      <td>210344.961169</td>\n",
       "    </tr>\n",
       "    <tr>\n",
       "      <th>1446</th>\n",
       "      <td>2907</td>\n",
       "      <td>116826.619145</td>\n",
       "    </tr>\n",
       "    <tr>\n",
       "      <th>1447</th>\n",
       "      <td>2908</td>\n",
       "      <td>127011.366657</td>\n",
       "    </tr>\n",
       "    <tr>\n",
       "      <th>1448</th>\n",
       "      <td>2909</td>\n",
       "      <td>155255.562546</td>\n",
       "    </tr>\n",
       "    <tr>\n",
       "      <th>1449</th>\n",
       "      <td>2910</td>\n",
       "      <td>84590.314885</td>\n",
       "    </tr>\n",
       "    <tr>\n",
       "      <th>1450</th>\n",
       "      <td>2911</td>\n",
       "      <td>91513.484640</td>\n",
       "    </tr>\n",
       "    <tr>\n",
       "      <th>1451</th>\n",
       "      <td>2912</td>\n",
       "      <td>147962.822167</td>\n",
       "    </tr>\n",
       "    <tr>\n",
       "      <th>1452</th>\n",
       "      <td>2913</td>\n",
       "      <td>95978.056715</td>\n",
       "    </tr>\n",
       "    <tr>\n",
       "      <th>1453</th>\n",
       "      <td>2914</td>\n",
       "      <td>86249.846331</td>\n",
       "    </tr>\n",
       "    <tr>\n",
       "      <th>1454</th>\n",
       "      <td>2915</td>\n",
       "      <td>96016.809787</td>\n",
       "    </tr>\n",
       "    <tr>\n",
       "      <th>1455</th>\n",
       "      <td>2916</td>\n",
       "      <td>95335.176559</td>\n",
       "    </tr>\n",
       "    <tr>\n",
       "      <th>1456</th>\n",
       "      <td>2917</td>\n",
       "      <td>185447.257449</td>\n",
       "    </tr>\n",
       "    <tr>\n",
       "      <th>1457</th>\n",
       "      <td>2918</td>\n",
       "      <td>115722.830238</td>\n",
       "    </tr>\n",
       "    <tr>\n",
       "      <th>1458</th>\n",
       "      <td>2919</td>\n",
       "      <td>242066.689216</td>\n",
       "    </tr>\n",
       "  </tbody>\n",
       "</table>\n",
       "<p>1459 rows × 2 columns</p>\n",
       "</div>"
      ],
      "text/plain": [
       "        Id      SalePrice\n",
       "0     1461  117485.601597\n",
       "1     1462  160498.307446\n",
       "2     1463  182878.157932\n",
       "3     1464  197589.470887\n",
       "4     1465  183983.069753\n",
       "5     1466  172989.193482\n",
       "6     1467  179497.760842\n",
       "7     1468  160909.310541\n",
       "8     1469  202059.830762\n",
       "9     1470  113878.071221\n",
       "10    1471  202362.742676\n",
       "11    1472   98157.944268\n",
       "12    1473   99362.670132\n",
       "13    1474  152195.185879\n",
       "14    1475  112504.636915\n",
       "15    1476  337519.325077\n",
       "16    1477  235296.510377\n",
       "17    1478  291480.347830\n",
       "18    1479  280295.864582\n",
       "19    1480  426595.668031\n",
       "20    1481  322080.748375\n",
       "21    1482  209799.776543\n",
       "22    1483  181733.550856\n",
       "23    1484  166157.603187\n",
       "24    1485  179400.920528\n",
       "25    1486  204374.082121\n",
       "26    1487  314296.850370\n",
       "27    1488  247528.578303\n",
       "28    1489  179341.645169\n",
       "29    1490  228064.620228\n",
       "...    ...            ...\n",
       "1429  2890   80721.881059\n",
       "1430  2891  144431.841219\n",
       "1431  2892   63872.216794\n",
       "1432  2893   96556.611430\n",
       "1433  2894   69997.353287\n",
       "1434  2895  290863.545437\n",
       "1435  2896  274519.841461\n",
       "1436  2897  216450.975834\n",
       "1437  2898  157203.454529\n",
       "1438  2899  208485.639260\n",
       "1439  2900  162384.412501\n",
       "1440  2901  231200.572921\n",
       "1441  2902  204910.008532\n",
       "1442  2903  330384.326303\n",
       "1443  2904  351247.884786\n",
       "1444  2905   85121.930120\n",
       "1445  2906  210344.961169\n",
       "1446  2907  116826.619145\n",
       "1447  2908  127011.366657\n",
       "1448  2909  155255.562546\n",
       "1449  2910   84590.314885\n",
       "1450  2911   91513.484640\n",
       "1451  2912  147962.822167\n",
       "1452  2913   95978.056715\n",
       "1453  2914   86249.846331\n",
       "1454  2915   96016.809787\n",
       "1455  2916   95335.176559\n",
       "1456  2917  185447.257449\n",
       "1457  2918  115722.830238\n",
       "1458  2919  242066.689216\n",
       "\n",
       "[1459 rows x 2 columns]"
      ]
     },
     "execution_count": 53,
     "metadata": {},
     "output_type": "execute_result"
    }
   ],
   "source": [
    "submission"
   ]
  }
 ],
 "metadata": {
  "kernelspec": {
   "display_name": "Python 3",
   "language": "python",
   "name": "python3"
  },
  "language_info": {
   "codemirror_mode": {
    "name": "ipython",
    "version": 3
   },
   "file_extension": ".py",
   "mimetype": "text/x-python",
   "name": "python",
   "nbconvert_exporter": "python",
   "pygments_lexer": "ipython3",
   "version": "3.7.1"
  }
 },
 "nbformat": 4,
 "nbformat_minor": 2
}
